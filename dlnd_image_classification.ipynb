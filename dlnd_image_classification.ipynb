{
 "cells": [
  {
   "cell_type": "markdown",
   "metadata": {
    "collapsed": true,
    "deletable": true,
    "editable": true
   },
   "source": [
    "# Image Classification\n",
    "In this project, you'll classify images from the [CIFAR-10 dataset](https://www.cs.toronto.edu/~kriz/cifar.html).  The dataset consists of airplanes, dogs, cats, and other objects. You'll preprocess the images, then train a convolutional neural network on all the samples. The images need to be normalized and the labels need to be one-hot encoded.  You'll get to apply what you learned and build a convolutional, max pooling, dropout, and fully connected layers.  At the end, you'll get to see your neural network's predictions on the sample images.\n",
    "## Get the Data\n",
    "Run the following cell to download the [CIFAR-10 dataset for python](https://www.cs.toronto.edu/~kriz/cifar-10-python.tar.gz)."
   ]
  },
  {
   "cell_type": "code",
   "execution_count": 1,
   "metadata": {
    "collapsed": false,
    "deletable": true,
    "editable": true
   },
   "outputs": [
    {
     "name": "stderr",
     "output_type": "stream",
     "text": [
      "CIFAR-10 Dataset: 171MB [02:04, 1.37MB/s]                              \n"
     ]
    },
    {
     "name": "stdout",
     "output_type": "stream",
     "text": [
      "All files found!\n"
     ]
    }
   ],
   "source": [
    "\"\"\"\n",
    "DON'T MODIFY ANYTHING IN THIS CELL THAT IS BELOW THIS LINE\n",
    "\"\"\"\n",
    "from urllib.request import urlretrieve\n",
    "from os.path import isfile, isdir\n",
    "from tqdm import tqdm\n",
    "import problem_unittests as tests\n",
    "import tarfile\n",
    "\n",
    "cifar10_dataset_folder_path = 'cifar-10-batches-py'\n",
    "\n",
    "class DLProgress(tqdm):\n",
    "    last_block = 0\n",
    "\n",
    "    def hook(self, block_num=1, block_size=1, total_size=None):\n",
    "        self.total = total_size\n",
    "        self.update((block_num - self.last_block) * block_size)\n",
    "        self.last_block = block_num\n",
    "\n",
    "if not isfile('cifar-10-python.tar.gz'):\n",
    "    with DLProgress(unit='B', unit_scale=True, miniters=1, desc='CIFAR-10 Dataset') as pbar:\n",
    "        urlretrieve(\n",
    "            'https://www.cs.toronto.edu/~kriz/cifar-10-python.tar.gz',\n",
    "            'cifar-10-python.tar.gz',\n",
    "            pbar.hook)\n",
    "\n",
    "if not isdir(cifar10_dataset_folder_path):\n",
    "    with tarfile.open('cifar-10-python.tar.gz') as tar:\n",
    "        tar.extractall()\n",
    "        tar.close()\n",
    "\n",
    "\n",
    "tests.test_folder_path(cifar10_dataset_folder_path)"
   ]
  },
  {
   "cell_type": "markdown",
   "metadata": {
    "deletable": true,
    "editable": true
   },
   "source": [
    "## Explore the Data\n",
    "The dataset is broken into batches to prevent your machine from running out of memory.  The CIFAR-10 dataset consists of 5 batches, named `data_batch_1`, `data_batch_2`, etc.. Each batch contains the labels and images that are one of the following:\n",
    "* airplane\n",
    "* automobile\n",
    "* bird\n",
    "* cat\n",
    "* deer\n",
    "* dog\n",
    "* frog\n",
    "* horse\n",
    "* ship\n",
    "* truck\n",
    "\n",
    "Understanding a dataset is part of making predictions on the data.  Play around with the code cell below by changing the `batch_id` and `sample_id`. The `batch_id` is the id for a batch (1-5). The `sample_id` is the id for a image and label pair in the batch.\n",
    "\n",
    "Ask yourself \"What are all possible labels?\", \"What is the range of values for the image data?\", \"Are the labels in order or random?\".  Answers to questions like these will help you preprocess the data and end up with better predictions."
   ]
  },
  {
   "cell_type": "code",
   "execution_count": 2,
   "metadata": {
    "collapsed": false,
    "deletable": true,
    "editable": true
   },
   "outputs": [
    {
     "name": "stdout",
     "output_type": "stream",
     "text": [
      "\n",
      "Stats of batch 1:\n",
      "Samples: 10000\n",
      "Label Counts: {0: 1005, 1: 974, 2: 1032, 3: 1016, 4: 999, 5: 937, 6: 1030, 7: 1001, 8: 1025, 9: 981}\n",
      "First 20 Labels: [6, 9, 9, 4, 1, 1, 2, 7, 8, 3, 4, 7, 7, 2, 9, 9, 9, 3, 2, 6]\n",
      "\n",
      "Example of Image 5:\n",
      "Image - Min Value: 0 Max Value: 252\n",
      "Image - Shape: (32, 32, 3)\n",
      "Label - Label Id: 1 Name: automobile\n"
     ]
    },
    {
     "data": {
      "image/png": "[encoded data removed]",
      "text/plain": [
       "<matplotlib.figure.Figure at 0x7f10d0740a20>"
      ]
     },
     "metadata": {
      "image/png": {
       "height": 250,
       "width": 253
      }
     },
     "output_type": "display_data"
    }
   ],
   "source": [
    "%matplotlib inline\n",
    "%config InlineBackend.figure_format = 'retina'\n",
    "\n",
    "import helper\n",
    "import numpy as np\n",
    "\n",
    "# Explore the dataset\n",
    "batch_id = 1\n",
    "sample_id = 5\n",
    "helper.display_stats(cifar10_dataset_folder_path, batch_id, sample_id)"
   ]
  },
  {
   "cell_type": "markdown",
   "metadata": {
    "deletable": true,
    "editable": true
   },
   "source": [
    "## Implement Preprocess Functions\n",
    "### Normalize\n",
    "In the cell below, implement the `normalize` function to take in image data, `x`, and return it as a normalized Numpy array. The values should be in the range of 0 to 1, inclusive.  The return object should be the same shape as `x`."
   ]
  },
  {
   "cell_type": "code",
   "execution_count": 4,
   "metadata": {
    "collapsed": false,
    "deletable": true,
    "editable": true
   },
   "outputs": [
    {
     "name": "stdout",
     "output_type": "stream",
     "text": [
      "Tests Passed\n"
     ]
    }
   ],
   "source": [
    "def normalize(x):\n",
    "    \"\"\"\n",
    "    Normalize a list of sample image data in the range of 0 to 1\n",
    "    : x: List of image data.  The image shape is (32, 32, 3)\n",
    "    : return: Numpy array of normalize data\n",
    "    \"\"\"\n",
    "    # TODO: Implement Function\n",
    "    return x/255\n",
    "\n",
    "\n",
    "\"\"\"\n",
    "DON'T MODIFY ANYTHING IN THIS CELL THAT IS BELOW THIS LINE\n",
    "\"\"\"\n",
    "tests.test_normalize(normalize)"
   ]
  },
  {
   "cell_type": "markdown",
   "metadata": {
    "deletable": true,
    "editable": true
   },
   "source": [
    "### One-hot encode\n",
    "Just like the previous code cell, you'll be implementing a function for preprocessing.  This time, you'll implement the `one_hot_encode` function. The input, `x`, are a list of labels.  Implement the function to return the list of labels as One-Hot encoded Numpy array.  The possible values for labels are 0 to 9. The one-hot encoding function should return the same encoding for each value between each call to `one_hot_encode`.  Make sure to save the map of encodings outside the function.\n",
    "\n",
    "Hint: Don't reinvent the wheel."
   ]
  },
  {
   "cell_type": "code",
   "execution_count": 5,
   "metadata": {
    "collapsed": false,
    "deletable": true,
    "editable": true
   },
   "outputs": [
    {
     "name": "stdout",
     "output_type": "stream",
     "text": [
      "Tests Passed\n"
     ]
    }
   ],
   "source": [
    "from sklearn.preprocessing import LabelBinarizer\n",
    "encoder = LabelBinarizer()\n",
    "encoder.fit(range(10))\n",
    "\n",
    "def one_hot_encode(x):\n",
    "    \"\"\"\n",
    "    One hot encode a list of sample labels. Return a one-hot encoded vector for each label.\n",
    "    : x: List of sample Labels\n",
    "    : return: Numpy array of one-hot encoded labels\n",
    "    \"\"\"\n",
    "    # TODO: Implement Function\n",
    "    labels = encoder.transform(x)\n",
    "    return labels\n",
    "\n",
    "\n",
    "\"\"\"\n",
    "DON'T MODIFY ANYTHING IN THIS CELL THAT IS BELOW THIS LINE\n",
    "\"\"\"\n",
    "tests.test_one_hot_encode(one_hot_encode)"
   ]
  },
  {
   "cell_type": "markdown",
   "metadata": {
    "deletable": true,
    "editable": true
   },
   "source": [
    "### Randomize Data\n",
    "As you saw from exploring the data above, the order of the samples are randomized.  It doesn't hurt to randomize it again, but you don't need to for this dataset."
   ]
  },
  {
   "cell_type": "markdown",
   "metadata": {
    "deletable": true,
    "editable": true
   },
   "source": [
    "## Preprocess all the data and save it\n",
    "Running the code cell below will preprocess all the CIFAR-10 data and save it to file. The code below also uses 10% of the training data for validation."
   ]
  },
  {
   "cell_type": "code",
   "execution_count": 6,
   "metadata": {
    "collapsed": false,
    "deletable": true,
    "editable": true
   },
   "outputs": [],
   "source": [
    "\"\"\"\n",
    "DON'T MODIFY ANYTHING IN THIS CELL\n",
    "\"\"\"\n",
    "# Preprocess Training, Validation, and Testing Data\n",
    "helper.preprocess_and_save_data(cifar10_dataset_folder_path, normalize, one_hot_encode)"
   ]
  },
  {
   "cell_type": "markdown",
   "metadata": {
    "deletable": true,
    "editable": true
   },
   "source": [
    "# Check Point\n",
    "This is your first checkpoint.  If you ever decide to come back to this notebook or have to restart the notebook, you can start from here.  The preprocessed data has been saved to disk."
   ]
  },
  {
   "cell_type": "code",
   "execution_count": 7,
   "metadata": {
    "collapsed": true,
    "deletable": true,
    "editable": true
   },
   "outputs": [],
   "source": [
    "\"\"\"\n",
    "DON'T MODIFY ANYTHING IN THIS CELL\n",
    "\"\"\"\n",
    "import pickle\n",
    "import problem_unittests as tests\n",
    "import helper\n",
    "\n",
    "# Load the Preprocessed Validation data\n",
    "valid_features, valid_labels = pickle.load(open('preprocess_validation.p', mode='rb'))"
   ]
  },
  {
   "cell_type": "markdown",
   "metadata": {
    "deletable": true,
    "editable": true
   },
   "source": [
    "## Build the network\n",
    "For the neural network, you'll build each layer into a function.  Most of the code you've seen has been outside of functions. To test your code more thoroughly, we require that you put each layer in a function.  This allows us to give you better feedback and test for simple mistakes using our unittests before you submit your project.\n",
    "\n",
    ">**Note:** If you're finding it hard to dedicate enough time for this course each week, we've provided a small shortcut to this part of the project. In the next couple of problems, you'll have the option to use classes from the [TensorFlow Layers](https://www.tensorflow.org/api_docs/python/tf/layers) or [TensorFlow Layers (contrib)](https://www.tensorflow.org/api_guides/python/contrib.layers) packages to build each layer, except the layers you build in the \"Convolutional and Max Pooling Layer\" section.  TF Layers is similar to Keras's and TFLearn's abstraction to layers, so it's easy to pickup.\n",
    "\n",
    ">However, if you would like to get the most out of this course, try to solve all the problems _without_ using anything from the TF Layers packages. You **can** still use classes from other packages that happen to have the same name as ones you find in TF Layers! For example, instead of using the TF Layers version of the `conv2d` class, [tf.layers.conv2d](https://www.tensorflow.org/api_docs/python/tf/layers/conv2d), you would want to use the TF Neural Network version of `conv2d`, [tf.nn.conv2d](https://www.tensorflow.org/api_docs/python/tf/nn/conv2d). \n",
    "\n",
    "Let's begin!\n",
    "\n",
    "### Input\n",
    "The neural network needs to read the image data, one-hot encoded labels, and dropout keep probability. Implement the following functions\n",
    "* Implement `neural_net_image_input`\n",
    " * Return a [TF Placeholder](https://www.tensorflow.org/api_docs/python/tf/placeholder)\n",
    " * Set the shape using `image_shape` with batch size set to `None`.\n",
    " * Name the TensorFlow placeholder \"x\" using the TensorFlow `name` parameter in the [TF Placeholder](https://www.tensorflow.org/api_docs/python/tf/placeholder).\n",
    "* Implement `neural_net_label_input`\n",
    " * Return a [TF Placeholder](https://www.tensorflow.org/api_docs/python/tf/placeholder)\n",
    " * Set the shape using `n_classes` with batch size set to `None`.\n",
    " * Name the TensorFlow placeholder \"y\" using the TensorFlow `name` parameter in the [TF Placeholder](https://www.tensorflow.org/api_docs/python/tf/placeholder).\n",
    "* Implement `neural_net_keep_prob_input`\n",
    " * Return a [TF Placeholder](https://www.tensorflow.org/api_docs/python/tf/placeholder) for dropout keep probability.\n",
    " * Name the TensorFlow placeholder \"keep_prob\" using the TensorFlow `name` parameter in the [TF Placeholder](https://www.tensorflow.org/api_docs/python/tf/placeholder).\n",
    "\n",
    "These names will be used at the end of the project to load your saved model.\n",
    "\n",
    "Note: `None` for shapes in TensorFlow allow for a dynamic size."
   ]
  },
  {
   "cell_type": "code",
   "execution_count": 8,
   "metadata": {
    "collapsed": false,
    "deletable": true,
    "editable": true
   },
   "outputs": [
    {
     "name": "stdout",
     "output_type": "stream",
     "text": [
      "Image Input Tests Passed.\n",
      "Label Input Tests Passed.\n",
      "Keep Prob Tests Passed.\n"
     ]
    }
   ],
   "source": [
    "import tensorflow as tf\n",
    "\n",
    "def neural_net_image_input(image_shape):\n",
    "    \"\"\"\n",
    "    Return a Tensor for a bach of image input\n",
    "    : image_shape: Shape of the images\n",
    "    : return: Tensor for image input.\n",
    "    \"\"\"\n",
    "    # TODO: Implement Function\n",
    "    image_width, image_height, color_channels = image_shape\n",
    "    x = tf.placeholder(\n",
    "    tf.float32,\n",
    "    shape=[None, image_width, image_height, color_channels], name='x')\n",
    "    return x\n",
    "\n",
    "\n",
    "def neural_net_label_input(n_classes):\n",
    "    \"\"\"\n",
    "    Return a Tensor for a batch of label input\n",
    "    : n_classes: Number of classes\n",
    "    : return: Tensor for label input.\n",
    "    \"\"\"\n",
    "    # TODO: Implement Function\n",
    "    y = tf.placeholder(\n",
    "    tf.float32,\n",
    "    shape=[None, n_classes], name='y')\n",
    "    return y\n",
    "\n",
    "\n",
    "def neural_net_keep_prob_input():\n",
    "    \"\"\"\n",
    "    Return a Tensor for keep probability\n",
    "    : return: Tensor for keep probability.\n",
    "    \"\"\"\n",
    "    # TODO: Implement Function\n",
    "    k = tf.placeholder(tf.float32, name='keep_prob')\n",
    "    return k\n",
    "\n",
    "\n",
    "\"\"\"\n",
    "DON'T MODIFY ANYTHING IN THIS CELL THAT IS BELOW THIS LINE\n",
    "\"\"\"\n",
    "tf.reset_default_graph()\n",
    "tests.test_nn_image_inputs(neural_net_image_input)\n",
    "tests.test_nn_label_inputs(neural_net_label_input)\n",
    "tests.test_nn_keep_prob_inputs(neural_net_keep_prob_input)"
   ]
  },
  {
   "cell_type": "markdown",
   "metadata": {
    "deletable": true,
    "editable": true
   },
   "source": [
    "### Convolution and Max Pooling Layer\n",
    "Convolution layers have a lot of success with images. For this code cell, you should implement the function `conv2d_maxpool` to apply convolution then max pooling:\n",
    "* Create the weight and bias using `conv_ksize`, `conv_num_outputs` and the shape of `x_tensor`.\n",
    "* Apply a convolution to `x_tensor` using weight and `conv_strides`.\n",
    " * We recommend you use same padding, but you're welcome to use any padding.\n",
    "* Add bias\n",
    "* Add a nonlinear activation to the convolution.\n",
    "* Apply Max Pooling using `pool_ksize` and `pool_strides`.\n",
    " * We recommend you use same padding, but you're welcome to use any padding.\n",
    "\n",
    "**Note:** You **can't** use [TensorFlow Layers](https://www.tensorflow.org/api_docs/python/tf/layers) or [TensorFlow Layers (contrib)](https://www.tensorflow.org/api_guides/python/contrib.layers) for **this** layer, but you can still use TensorFlow's [Neural Network](https://www.tensorflow.org/api_docs/python/tf/nn) package. You may still use the shortcut option for all the **other** layers."
   ]
  },
  {
   "cell_type": "code",
   "execution_count": 9,
   "metadata": {
    "collapsed": false,
    "deletable": true,
    "editable": true
   },
   "outputs": [
    {
     "name": "stdout",
     "output_type": "stream",
     "text": [
      "Tests Passed\n"
     ]
    }
   ],
   "source": [
    "def conv2d_maxpool(x_tensor, conv_num_outputs, conv_ksize, conv_strides, pool_ksize, pool_strides):\n",
    "    \"\"\"\n",
    "    Apply convolution then max pooling to x_tensor\n",
    "    :param x_tensor: TensorFlow Tensor\n",
    "    :param conv_num_outputs: Number of outputs for the convolutional layer\n",
    "    :param conv_strides: Stride 2-D Tuple for convolution\n",
    "    :param pool_ksize: kernal size 2-D Tuple for pool\n",
    "    :param pool_strides: Stride 2-D Tuple for pool\n",
    "    : return: A tensor that represents convolution and max pooling of x_tensor\n",
    "    \"\"\"\n",
    "    # TODO: Implement Function\n",
    "    filter_size_width, filter_size_height = conv_ksize\n",
    "    color_channels = x_tensor.shape.as_list()[-1]\n",
    "    weight = tf.Variable(tf.truncated_normal(\n",
    "        [filter_size_width, filter_size_height, color_channels, conv_num_outputs], stddev=0.01))\n",
    "    bias = tf.Variable(tf.zeros(conv_num_outputs))\n",
    "   \n",
    "    # Apply Convolution\n",
    "    # set the stride for batch and input_channels (i.e. the first and fourth element in the strides array) to be 1.\n",
    "    a, b = conv_strides\n",
    "    full_conv_strides = [1, a, b, 1]\n",
    "    conv_layer = tf.nn.conv2d(x_tensor, weight, strides=full_conv_strides, padding='SAME')\n",
    "    # Add bias\n",
    "    conv_layer = tf.nn.bias_add(conv_layer, bias)\n",
    "    # Apply activation function\n",
    "    conv_layer = tf.nn.relu(conv_layer)\n",
    "    # Apply Max Pooling\n",
    "    # set stride and ksize for batch and input_channels (i.e. the first and fourth element in the strides array) to be 1.\n",
    "    a, b = pool_strides\n",
    "    full_pool_strides = [1, a, b, 1]\n",
    "    a, b = pool_ksize\n",
    "    full_pool_ksize = [1, a, b, 1]\n",
    "    conv_layer = tf.nn.max_pool(\n",
    "        conv_layer,\n",
    "        ksize=full_pool_ksize,\n",
    "        strides=full_pool_strides,\n",
    "        padding='SAME')\n",
    "    return conv_layer \n",
    "\n",
    "\n",
    "\"\"\"\n",
    "DON'T MODIFY ANYTHING IN THIS CELL THAT IS BELOW THIS LINE\n",
    "\"\"\"\n",
    "tests.test_con_pool(conv2d_maxpool)"
   ]
  },
  {
   "cell_type": "markdown",
   "metadata": {
    "deletable": true,
    "editable": true
   },
   "source": [
    "### Flatten Layer\n",
    "Implement the `flatten` function to change the dimension of `x_tensor` from a 4-D tensor to a 2-D tensor.  The output should be the shape (*Batch Size*, *Flattened Image Size*). Shortcut option: you can use classes from the [TensorFlow Layers](https://www.tensorflow.org/api_docs/python/tf/layers) or [TensorFlow Layers (contrib)](https://www.tensorflow.org/api_guides/python/contrib.layers) packages for this layer. For more of a challenge, only use other TensorFlow packages."
   ]
  },
  {
   "cell_type": "code",
   "execution_count": 10,
   "metadata": {
    "collapsed": false,
    "deletable": true,
    "editable": true
   },
   "outputs": [
    {
     "name": "stdout",
     "output_type": "stream",
     "text": [
      "Tests Passed\n"
     ]
    }
   ],
   "source": [
    "def flatten(x_tensor):\n",
    "    \"\"\"\n",
    "    Flatten x_tensor to (Batch Size, Flattened Image Size)\n",
    "    : x_tensor: A tensor of size (Batch Size, ...), where ... are the image dimensions.\n",
    "    : return: A tensor of size (Batch Size, Flattened Image Size).\n",
    "    \"\"\"\n",
    "    # TODO: Implement Function\n",
    "    shape = x_tensor.shape.as_list()\n",
    "    # Discard batch size\n",
    "    new_shape = np.prod(shape[1:])\n",
    "    flat = tf.reshape(x_tensor, [-1, new_shape])\n",
    "    return flat\n",
    "\n",
    "\n",
    "\"\"\"\n",
    "DON'T MODIFY ANYTHING IN THIS CELL THAT IS BELOW THIS LINE\n",
    "\"\"\"\n",
    "tests.test_flatten(flatten)"
   ]
  },
  {
   "cell_type": "markdown",
   "metadata": {
    "deletable": true,
    "editable": true
   },
   "source": [
    "### Fully-Connected Layer\n",
    "Implement the `fully_conn` function to apply a fully connected layer to `x_tensor` with the shape (*Batch Size*, *num_outputs*). Shortcut option: you can use classes from the [TensorFlow Layers](https://www.tensorflow.org/api_docs/python/tf/layers) or [TensorFlow Layers (contrib)](https://www.tensorflow.org/api_guides/python/contrib.layers) packages for this layer. For more of a challenge, only use other TensorFlow packages."
   ]
  },
  {
   "cell_type": "code",
   "execution_count": 11,
   "metadata": {
    "collapsed": false,
    "deletable": true,
    "editable": true
   },
   "outputs": [
    {
     "name": "stdout",
     "output_type": "stream",
     "text": [
      "Tests Passed\n"
     ]
    }
   ],
   "source": [
    "def fully_conn(x_tensor, num_outputs):\n",
    "    \"\"\"\n",
    "    Apply a fully connected layer to x_tensor using weight and bias\n",
    "    : x_tensor: A 2-D tensor where the first dimension is batch size.\n",
    "    : num_outputs: The number of output that the new tensor should be.\n",
    "    : return: A 2-D tensor where the second dimension is num_outputs.\n",
    "    \"\"\"\n",
    "    # TODO: Implement Function\n",
    "    weight = tf.Variable(tf.truncated_normal(\n",
    "        [x_tensor.get_shape().as_list()[-1] ,num_outputs], stddev=0.01))\n",
    "    bias = tf.Variable(tf.zeros(num_outputs))\n",
    "    fc = tf.add(tf.matmul(x_tensor, weight), bias)\n",
    "    fc = tf.nn.relu(fc)\n",
    "    return fc\n",
    "\n",
    "\n",
    "\"\"\"\n",
    "DON'T MODIFY ANYTHING IN THIS CELL THAT IS BELOW THIS LINE\n",
    "\"\"\"\n",
    "tests.test_fully_conn(fully_conn)"
   ]
  },
  {
   "cell_type": "markdown",
   "metadata": {
    "deletable": true,
    "editable": true
   },
   "source": [
    "### Output Layer\n",
    "Implement the `output` function to apply a fully connected layer to `x_tensor` with the shape (*Batch Size*, *num_outputs*). Shortcut option: you can use classes from the [TensorFlow Layers](https://www.tensorflow.org/api_docs/python/tf/layers) or [TensorFlow Layers (contrib)](https://www.tensorflow.org/api_guides/python/contrib.layers) packages for this layer. For more of a challenge, only use other TensorFlow packages.\n",
    "\n",
    "**Note:** Activation, softmax, or cross entropy should **not** be applied to this."
   ]
  },
  {
   "cell_type": "code",
   "execution_count": 13,
   "metadata": {
    "collapsed": false,
    "deletable": true,
    "editable": true
   },
   "outputs": [
    {
     "name": "stdout",
     "output_type": "stream",
     "text": [
      "Tests Passed\n"
     ]
    }
   ],
   "source": [
    "def output(x_tensor, num_outputs):\n",
    "    \"\"\"\n",
    "    Apply a output layer to x_tensor using weight and bias\n",
    "    : x_tensor: A 2-D tensor where the first dimension is batch size.\n",
    "    : num_outputs: The number of output that the new tensor should be.\n",
    "    : return: A 2-D tensor where the second dimension is num_outputs.\n",
    "    \"\"\"\n",
    "    # TODO: Implement Function\n",
    "    weight = tf.Variable(tf.truncated_normal(\n",
    "        [x_tensor.get_shape().as_list()[-1] , num_outputs], stddev=0.01))\n",
    "    bias = tf.Variable(tf.zeros(num_outputs))\n",
    "    out = tf.add(tf.matmul(x_tensor, weight), bias)\n",
    "    return out\n",
    "\n",
    "\n",
    "\"\"\"\n",
    "DON'T MODIFY ANYTHING IN THIS CELL THAT IS BELOW THIS LINE\n",
    "\"\"\"\n",
    "tests.test_output(output)"
   ]
  },
  {
   "cell_type": "markdown",
   "metadata": {
    "deletable": true,
    "editable": true
   },
   "source": [
    "### Create Convolutional Model\n",
    "Implement the function `conv_net` to create a convolutional neural network model. The function takes in a batch of images, `x`, and outputs logits.  Use the layers you created above to create this model:\n",
    "\n",
    "* Apply 1, 2, or 3 Convolution and Max Pool layers\n",
    "* Apply a Flatten Layer\n",
    "* Apply 1, 2, or 3 Fully Connected Layers\n",
    "* Apply an Output Layer\n",
    "* Return the output\n",
    "* Apply [TensorFlow's Dropout](https://www.tensorflow.org/api_docs/python/tf/nn/dropout) to one or more layers in the model using `keep_prob`. "
   ]
  },
  {
   "cell_type": "code",
   "execution_count": 14,
   "metadata": {
    "collapsed": false,
    "deletable": true,
    "editable": true
   },
   "outputs": [
    {
     "name": "stdout",
     "output_type": "stream",
     "text": [
      "Neural Network Built!\n"
     ]
    }
   ],
   "source": [
    "def conv_net(x, keep_prob):\n",
    "    \"\"\"\n",
    "    Create a convolutional neural network model\n",
    "    : x: Placeholder tensor that holds image data.\n",
    "    : keep_prob: Placeholder tensor that hold dropout keep probability.\n",
    "    : return: Tensor that represents logits\n",
    "    \"\"\"\n",
    "    # TODO: Apply 1, 2, or 3 Convolution and Max Pool layers\n",
    "    #    Play around with different number of outputs, kernel size and stride\n",
    "    # Function Definition from Above:\n",
    "    conv_num_outputs = 32\n",
    "    conv_ksize = (5,5)\n",
    "    conv_strides = (1,1)\n",
    "    pool_ksize = (2,2)\n",
    "    pool_strides = (2,2)\n",
    "    logits = conv2d_maxpool(x, conv_num_outputs, conv_ksize, conv_strides, pool_ksize, pool_strides)\n",
    "    \n",
    "    conv_num_outputs = 64\n",
    "    conv_ksize = (5,5)\n",
    "    conv_strides = (1,1)\n",
    "    pool_ksize = (2,2)\n",
    "    pool_strides = (2,2)\n",
    "    logits = conv2d_maxpool(logits, conv_num_outputs, conv_ksize, conv_strides, pool_ksize, pool_strides)\n",
    "\n",
    "    conv_num_outputs = 128\n",
    "    conv_ksize = (5,5)\n",
    "    conv_strides = (1,1)\n",
    "    pool_ksize = (2,2)\n",
    "    pool_strides = (2,2)\n",
    "    logits = conv2d_maxpool(logits, conv_num_outputs, conv_ksize, conv_strides, pool_ksize, pool_strides)\n",
    "\n",
    "    tf.nn.dropout(logits, keep_prob)\n",
    "    \n",
    "\n",
    "    # TODO: Apply a Flatten Layer\n",
    "    # Function Definition from Above:\n",
    "    logits = flatten(logits)\n",
    "    \n",
    "\n",
    "    # TODO: Apply 1, 2, or 3 Fully Connected Layers\n",
    "    #    Play around with different number of outputs\n",
    "    # Function Definition from Above:\n",
    "    num_outputs = 512\n",
    "    logits = fully_conn(logits, num_outputs)\n",
    "    \n",
    "    num_outputs = 512\n",
    "    logits = fully_conn(logits, num_outputs)\n",
    "    \n",
    "    num_outputs = 512\n",
    "    logits = fully_conn(logits, num_outputs)\n",
    "    \n",
    "    \n",
    "    # TODO: Apply an Output Layer\n",
    "    #    Set this to the number of classes\n",
    "    # Function Definition from Above:\n",
    "    num_outputs = 10\n",
    "    logits = output(logits, num_outputs)\n",
    "    \n",
    "    \n",
    "    # TODO: return output\n",
    "    return logits\n",
    "\n",
    "\n",
    "\"\"\"\n",
    "DON'T MODIFY ANYTHING IN THIS CELL THAT IS BELOW THIS LINE\n",
    "\"\"\"\n",
    "\n",
    "##############################\n",
    "## Build the Neural Network ##\n",
    "##############################\n",
    "\n",
    "# Remove previous weights, bias, inputs, etc..\n",
    "tf.reset_default_graph()\n",
    "\n",
    "# Inputs\n",
    "x = neural_net_image_input((32, 32, 3))\n",
    "y = neural_net_label_input(10)\n",
    "keep_prob = neural_net_keep_prob_input()\n",
    "\n",
    "# Model\n",
    "logits = conv_net(x, keep_prob)\n",
    "\n",
    "# Name logits Tensor, so that is can be loaded from disk after training\n",
    "logits = tf.identity(logits, name='logits')\n",
    "\n",
    "# Loss and Optimizer\n",
    "cost = tf.reduce_mean(tf.nn.softmax_cross_entropy_with_logits(logits=logits, labels=y))\n",
    "optimizer = tf.train.AdamOptimizer().minimize(cost)\n",
    "\n",
    "# Accuracy\n",
    "correct_pred = tf.equal(tf.argmax(logits, 1), tf.argmax(y, 1))\n",
    "accuracy = tf.reduce_mean(tf.cast(correct_pred, tf.float32), name='accuracy')\n",
    "\n",
    "tests.test_conv_net(conv_net)"
   ]
  },
  {
   "cell_type": "markdown",
   "metadata": {
    "deletable": true,
    "editable": true
   },
   "source": [
    "## Train the Neural Network\n",
    "### Single Optimization\n",
    "Implement the function `train_neural_network` to do a single optimization.  The optimization should use `optimizer` to optimize in `session` with a `feed_dict` of the following:\n",
    "* `x` for image input\n",
    "* `y` for labels\n",
    "* `keep_prob` for keep probability for dropout\n",
    "\n",
    "This function will be called for each batch, so `tf.global_variables_initializer()` has already been called.\n",
    "\n",
    "Note: Nothing needs to be returned. This function is only optimizing the neural network."
   ]
  },
  {
   "cell_type": "code",
   "execution_count": 15,
   "metadata": {
    "collapsed": false,
    "deletable": true,
    "editable": true
   },
   "outputs": [
    {
     "name": "stdout",
     "output_type": "stream",
     "text": [
      "Tests Passed\n"
     ]
    }
   ],
   "source": [
    "def train_neural_network(session, optimizer, keep_probability, feature_batch, label_batch):\n",
    "    \"\"\"\n",
    "    Optimize the session on a batch of images and labels\n",
    "    : session: Current TensorFlow session\n",
    "    : optimizer: TensorFlow optimizer function\n",
    "    : keep_probability: keep probability\n",
    "    : feature_batch: Batch of Numpy image data\n",
    "    : label_batch: Batch of Numpy label data\n",
    "    \"\"\"\n",
    "    # TODO: Implement Function\n",
    "    session.run(optimizer, feed_dict={\n",
    "                x: feature_batch,\n",
    "                y: label_batch,\n",
    "                keep_prob: keep_probability})\n",
    "    pass\n",
    "\n",
    "\n",
    "\"\"\"\n",
    "DON'T MODIFY ANYTHING IN THIS CELL THAT IS BELOW THIS LINE\n",
    "\"\"\"\n",
    "tests.test_train_nn(train_neural_network)"
   ]
  },
  {
   "cell_type": "markdown",
   "metadata": {
    "deletable": true,
    "editable": true
   },
   "source": [
    "### Show Stats\n",
    "Implement the function `print_stats` to print loss and validation accuracy.  Use the global variables `valid_features` and `valid_labels` to calculate validation accuracy.  Use a keep probability of `1.0` to calculate the loss and validation accuracy."
   ]
  },
  {
   "cell_type": "code",
   "execution_count": 16,
   "metadata": {
    "collapsed": false,
    "deletable": true,
    "editable": true
   },
   "outputs": [],
   "source": [
    "def print_stats(session, feature_batch, label_batch, cost, accuracy):\n",
    "    \"\"\"\n",
    "    Print information about loss and validation accuracy\n",
    "    : session: Current TensorFlow session\n",
    "    : feature_batch: Batch of Numpy image data\n",
    "    : label_batch: Batch of Numpy label data\n",
    "    : cost: TensorFlow cost function\n",
    "    : accuracy: TensorFlow accuracy function\n",
    "    \"\"\"\n",
    "    # TODO: Implement Function\n",
    "    validation_loss = sess.run(cost, feed_dict={\n",
    "        x: valid_features,\n",
    "        y: valid_labels,\n",
    "        keep_prob: 1})\n",
    "    validation_accuracy = sess.run(accuracy, feed_dict={\n",
    "        x: valid_features,\n",
    "        y: valid_labels,\n",
    "        keep_prob: 1})\n",
    "    print(\"validation_loss: {}, validation_accuracy: {}\".format(validation_loss, validation_accuracy))\n",
    "    pass"
   ]
  },
  {
   "cell_type": "markdown",
   "metadata": {
    "deletable": true,
    "editable": true
   },
   "source": [
    "### Hyperparameters\n",
    "Tune the following parameters:\n",
    "* Set `epochs` to the number of iterations until the network stops learning or start overfitting\n",
    "* Set `batch_size` to the highest number that your machine has memory for.  Most people set them to common sizes of memory:\n",
    " * 64\n",
    " * 128\n",
    " * 256\n",
    " * ...\n",
    "* Set `keep_probability` to the probability of keeping a node using dropout"
   ]
  },
  {
   "cell_type": "code",
   "execution_count": 17,
   "metadata": {
    "collapsed": true,
    "deletable": true,
    "editable": true
   },
   "outputs": [],
   "source": [
    "# TODO: Tune Parameters\n",
    "epochs = 20\n",
    "batch_size = 128\n",
    "keep_probability = 0.5"
   ]
  },
  {
   "cell_type": "markdown",
   "metadata": {
    "deletable": true,
    "editable": true
   },
   "source": [
    "### Train on a Single CIFAR-10 Batch\n",
    "Instead of training the neural network on all the CIFAR-10 batches of data, let's use a single batch. This should save time while you iterate on the model to get a better accuracy.  Once the final validation accuracy is 50% or greater, run the model on all the data in the next section."
   ]
  },
  {
   "cell_type": "code",
   "execution_count": 18,
   "metadata": {
    "collapsed": false,
    "deletable": true,
    "editable": true
   },
   "outputs": [
    {
     "name": "stdout",
     "output_type": "stream",
     "text": [
      "Checking the Training on a Single Batch...\n",
      "Epoch  1, CIFAR-10 Batch 1:  validation_loss: 2.269014358520508, validation_accuracy: 0.14560000598430634\n",
      "Epoch  2, CIFAR-10 Batch 1:  validation_loss: 2.0974645614624023, validation_accuracy: 0.16039998829364777\n",
      "Epoch  3, CIFAR-10 Batch 1:  validation_loss: 2.009702682495117, validation_accuracy: 0.19899998605251312\n",
      "Epoch  4, CIFAR-10 Batch 1:  validation_loss: 1.9122486114501953, validation_accuracy: 0.2521999776363373\n",
      "Epoch  5, CIFAR-10 Batch 1:  validation_loss: 1.7696794271469116, validation_accuracy: 0.3229999840259552\n",
      "Epoch  6, CIFAR-10 Batch 1:  validation_loss: 1.6728219985961914, validation_accuracy: 0.3455999791622162\n",
      "Epoch  7, CIFAR-10 Batch 1:  validation_loss: 1.5872657299041748, validation_accuracy: 0.3983999788761139\n",
      "Epoch  8, CIFAR-10 Batch 1:  validation_loss: 1.5382347106933594, validation_accuracy: 0.4227999448776245\n",
      "Epoch  9, CIFAR-10 Batch 1:  validation_loss: 1.4812740087509155, validation_accuracy: 0.43719998002052307\n",
      "Epoch 10, CIFAR-10 Batch 1:  validation_loss: 1.4536257982254028, validation_accuracy: 0.4511999487876892\n",
      "Epoch 11, CIFAR-10 Batch 1:  validation_loss: 1.4517289400100708, validation_accuracy: 0.46119993925094604\n",
      "Epoch 12, CIFAR-10 Batch 1:  validation_loss: 1.5178478956222534, validation_accuracy: 0.46299996972084045\n",
      "Epoch 13, CIFAR-10 Batch 1:  validation_loss: 1.523449182510376, validation_accuracy: 0.4615999460220337\n",
      "Epoch 14, CIFAR-10 Batch 1:  validation_loss: 1.5289684534072876, validation_accuracy: 0.46619999408721924\n",
      "Epoch 15, CIFAR-10 Batch 1:  validation_loss: 1.6077340841293335, validation_accuracy: 0.4533999264240265\n",
      "Epoch 16, CIFAR-10 Batch 1:  validation_loss: 1.4889521598815918, validation_accuracy: 0.4849999248981476\n",
      "Epoch 17, CIFAR-10 Batch 1:  validation_loss: 1.5430793762207031, validation_accuracy: 0.4691999852657318\n",
      "Epoch 18, CIFAR-10 Batch 1:  validation_loss: 1.577447533607483, validation_accuracy: 0.4569999575614929\n",
      "Epoch 19, CIFAR-10 Batch 1:  validation_loss: 1.6849172115325928, validation_accuracy: 0.4505999982357025\n",
      "Epoch 20, CIFAR-10 Batch 1:  validation_loss: 1.7690045833587646, validation_accuracy: 0.4477999806404114\n"
     ]
    }
   ],
   "source": [
    "\"\"\"\n",
    "DON'T MODIFY ANYTHING IN THIS CELL\n",
    "\"\"\"\n",
    "print('Checking the Training on a Single Batch...')\n",
    "with tf.Session() as sess:\n",
    "    # Initializing the variables\n",
    "    sess.run(tf.global_variables_initializer())\n",
    "    \n",
    "    # Training cycle\n",
    "    for epoch in range(epochs):\n",
    "        batch_i = 1\n",
    "        for batch_features, batch_labels in helper.load_preprocess_training_batch(batch_i, batch_size):\n",
    "            train_neural_network(sess, optimizer, keep_probability, batch_features, batch_labels)\n",
    "        print('Epoch {:>2}, CIFAR-10 Batch {}:  '.format(epoch + 1, batch_i), end='')\n",
    "        print_stats(sess, batch_features, batch_labels, cost, accuracy)"
   ]
  },
  {
   "cell_type": "markdown",
   "metadata": {
    "deletable": true,
    "editable": true
   },
   "source": [
    "### Fully Train the Model\n",
    "Now that you got a good accuracy with a single CIFAR-10 batch, try it with all five batches."
   ]
  },
  {
   "cell_type": "code",
   "execution_count": 19,
   "metadata": {
    "collapsed": false,
    "deletable": true,
    "editable": true
   },
   "outputs": [
    {
     "name": "stdout",
     "output_type": "stream",
     "text": [
      "Training...\n",
      "Epoch  1, CIFAR-10 Batch 1:  validation_loss: 2.2139101028442383, validation_accuracy: 0.11819998919963837\n",
      "Epoch  1, CIFAR-10 Batch 2:  validation_loss: 1.9883055686950684, validation_accuracy: 0.2231999933719635\n",
      "Epoch  1, CIFAR-10 Batch 3:  validation_loss: 1.8375226259231567, validation_accuracy: 0.28299999237060547\n",
      "Epoch  1, CIFAR-10 Batch 4:  validation_loss: 1.7418570518493652, validation_accuracy: 0.3141999840736389\n",
      "Epoch  1, CIFAR-10 Batch 5:  validation_loss: 1.6782281398773193, validation_accuracy: 0.34299999475479126\n",
      "Epoch  2, CIFAR-10 Batch 1:  validation_loss: 1.5733593702316284, validation_accuracy: 0.3967999815940857\n",
      "Epoch  2, CIFAR-10 Batch 2:  validation_loss: 1.5263102054595947, validation_accuracy: 0.4179999530315399\n",
      "Epoch  2, CIFAR-10 Batch 3:  validation_loss: 1.4770814180374146, validation_accuracy: 0.4422000050544739\n",
      "Epoch  2, CIFAR-10 Batch 4:  validation_loss: 1.3842319250106812, validation_accuracy: 0.4827999472618103\n",
      "Epoch  2, CIFAR-10 Batch 5:  validation_loss: 1.3240203857421875, validation_accuracy: 0.5101999044418335\n",
      "Epoch  3, CIFAR-10 Batch 1:  validation_loss: 1.3024146556854248, validation_accuracy: 0.5220000147819519\n",
      "Epoch  3, CIFAR-10 Batch 2:  validation_loss: 1.3534679412841797, validation_accuracy: 0.5040000081062317\n",
      "Epoch  3, CIFAR-10 Batch 3:  validation_loss: 1.2751308679580688, validation_accuracy: 0.5301999449729919\n",
      "Epoch  3, CIFAR-10 Batch 4:  validation_loss: 1.1875587701797485, validation_accuracy: 0.5635999441146851\n",
      "Epoch  3, CIFAR-10 Batch 5:  validation_loss: 1.181304693222046, validation_accuracy: 0.568399965763092\n",
      "Epoch  4, CIFAR-10 Batch 1:  validation_loss: 1.1573845148086548, validation_accuracy: 0.5835999250411987\n",
      "Epoch  4, CIFAR-10 Batch 2:  validation_loss: 1.2030725479125977, validation_accuracy: 0.5677999258041382\n",
      "Epoch  4, CIFAR-10 Batch 3:  validation_loss: 1.1353429555892944, validation_accuracy: 0.5915998816490173\n",
      "Epoch  4, CIFAR-10 Batch 4:  validation_loss: 1.1276907920837402, validation_accuracy: 0.5987998843193054\n",
      "Epoch  4, CIFAR-10 Batch 5:  validation_loss: 1.0745404958724976, validation_accuracy: 0.6129998564720154\n",
      "Epoch  5, CIFAR-10 Batch 1:  validation_loss: 1.1181952953338623, validation_accuracy: 0.6053999662399292\n",
      "Epoch  5, CIFAR-10 Batch 2:  validation_loss: 1.091506838798523, validation_accuracy: 0.6091998815536499\n",
      "Epoch  5, CIFAR-10 Batch 3:  validation_loss: 1.0518925189971924, validation_accuracy: 0.6291998624801636\n",
      "Epoch  5, CIFAR-10 Batch 4:  validation_loss: 1.0849967002868652, validation_accuracy: 0.6105998754501343\n",
      "Epoch  5, CIFAR-10 Batch 5:  validation_loss: 1.030510663986206, validation_accuracy: 0.6345999240875244\n",
      "Epoch  6, CIFAR-10 Batch 1:  validation_loss: 1.0830442905426025, validation_accuracy: 0.6235998868942261\n",
      "Epoch  6, CIFAR-10 Batch 2:  validation_loss: 1.0235710144042969, validation_accuracy: 0.6445999145507812\n",
      "Epoch  6, CIFAR-10 Batch 3:  validation_loss: 1.0193839073181152, validation_accuracy: 0.653999924659729\n",
      "Epoch  6, CIFAR-10 Batch 4:  validation_loss: 0.9937015771865845, validation_accuracy: 0.6529998779296875\n",
      "Epoch  6, CIFAR-10 Batch 5:  validation_loss: 1.0718058347702026, validation_accuracy: 0.6387999057769775\n",
      "Epoch  7, CIFAR-10 Batch 1:  validation_loss: 1.0538747310638428, validation_accuracy: 0.6505999565124512\n",
      "Epoch  7, CIFAR-10 Batch 2:  validation_loss: 1.1252574920654297, validation_accuracy: 0.6221998929977417\n",
      "Epoch  7, CIFAR-10 Batch 3:  validation_loss: 1.0669453144073486, validation_accuracy: 0.6445998549461365\n",
      "Epoch  7, CIFAR-10 Batch 4:  validation_loss: 1.0135117769241333, validation_accuracy: 0.6521998643875122\n",
      "Epoch  7, CIFAR-10 Batch 5:  validation_loss: 1.0708980560302734, validation_accuracy: 0.6453998684883118\n",
      "Epoch  8, CIFAR-10 Batch 1:  validation_loss: 1.0723950862884521, validation_accuracy: 0.6551998853683472\n",
      "Epoch  8, CIFAR-10 Batch 2:  validation_loss: 1.0786595344543457, validation_accuracy: 0.6441998481750488\n",
      "Epoch  8, CIFAR-10 Batch 3:  validation_loss: 1.0846920013427734, validation_accuracy: 0.6531998515129089\n",
      "Epoch  8, CIFAR-10 Batch 4:  validation_loss: 1.1026784181594849, validation_accuracy: 0.6373998522758484\n",
      "Epoch  8, CIFAR-10 Batch 5:  validation_loss: 1.0771044492721558, validation_accuracy: 0.6493998765945435\n",
      "Epoch  9, CIFAR-10 Batch 1:  validation_loss: 1.065696120262146, validation_accuracy: 0.6661998629570007\n",
      "Epoch  9, CIFAR-10 Batch 2:  validation_loss: 1.1111348867416382, validation_accuracy: 0.6505998969078064\n",
      "Epoch  9, CIFAR-10 Batch 3:  validation_loss: 1.1278340816497803, validation_accuracy: 0.6613998413085938\n",
      "Epoch  9, CIFAR-10 Batch 4:  validation_loss: 1.1313554048538208, validation_accuracy: 0.6521998643875122\n",
      "Epoch  9, CIFAR-10 Batch 5:  validation_loss: 1.0957629680633545, validation_accuracy: 0.6495999097824097\n",
      "Epoch 10, CIFAR-10 Batch 1:  validation_loss: 1.163155436515808, validation_accuracy: 0.653999924659729\n",
      "Epoch 10, CIFAR-10 Batch 2:  validation_loss: 1.1762762069702148, validation_accuracy: 0.6513999104499817\n",
      "Epoch 10, CIFAR-10 Batch 3:  validation_loss: 1.1138004064559937, validation_accuracy: 0.6607998609542847\n",
      "Epoch 10, CIFAR-10 Batch 4:  validation_loss: 1.248732328414917, validation_accuracy: 0.6339999437332153\n",
      "Epoch 10, CIFAR-10 Batch 5:  validation_loss: 1.1381335258483887, validation_accuracy: 0.6581999063491821\n",
      "Epoch 11, CIFAR-10 Batch 1:  validation_loss: 1.2978459596633911, validation_accuracy: 0.6491998434066772\n",
      "Epoch 11, CIFAR-10 Batch 2:  validation_loss: 1.2331205606460571, validation_accuracy: 0.6379998922348022\n",
      "Epoch 11, CIFAR-10 Batch 3:  validation_loss: 1.2236579656600952, validation_accuracy: 0.658599853515625\n",
      "Epoch 11, CIFAR-10 Batch 4:  validation_loss: 1.2503390312194824, validation_accuracy: 0.6475998759269714\n",
      "Epoch 11, CIFAR-10 Batch 5:  validation_loss: 1.1471318006515503, validation_accuracy: 0.6665998697280884\n",
      "Epoch 12, CIFAR-10 Batch 1:  validation_loss: 1.36074960231781, validation_accuracy: 0.6363998651504517\n",
      "Epoch 12, CIFAR-10 Batch 2:  validation_loss: 1.3400700092315674, validation_accuracy: 0.6403999328613281\n",
      "Epoch 12, CIFAR-10 Batch 3:  validation_loss: 1.3698033094406128, validation_accuracy: 0.6401998400688171\n",
      "Epoch 12, CIFAR-10 Batch 4:  validation_loss: 1.2929056882858276, validation_accuracy: 0.6509998440742493\n",
      "Epoch 12, CIFAR-10 Batch 5:  validation_loss: 1.2763088941574097, validation_accuracy: 0.650199830532074\n",
      "Epoch 13, CIFAR-10 Batch 1:  validation_loss: 1.3189659118652344, validation_accuracy: 0.6481999158859253\n",
      "Epoch 13, CIFAR-10 Batch 2:  validation_loss: 1.3550046682357788, validation_accuracy: 0.6343998312950134\n",
      "Epoch 13, CIFAR-10 Batch 3:  validation_loss: 1.3386666774749756, validation_accuracy: 0.6489999294281006\n",
      "Epoch 13, CIFAR-10 Batch 4:  validation_loss: 1.3034039735794067, validation_accuracy: 0.645799994468689\n",
      "Epoch 13, CIFAR-10 Batch 5:  validation_loss: 1.369543194770813, validation_accuracy: 0.6375998854637146\n",
      "Epoch 14, CIFAR-10 Batch 1:  validation_loss: 1.425004243850708, validation_accuracy: 0.6365998983383179\n",
      "Epoch 14, CIFAR-10 Batch 2:  validation_loss: 1.453403115272522, validation_accuracy: 0.6423999071121216\n",
      "Epoch 14, CIFAR-10 Batch 3:  validation_loss: 1.527187705039978, validation_accuracy: 0.6375998854637146\n",
      "Epoch 14, CIFAR-10 Batch 4:  validation_loss: 1.464860439300537, validation_accuracy: 0.6451998949050903\n",
      "Epoch 14, CIFAR-10 Batch 5:  validation_loss: 1.39308500289917, validation_accuracy: 0.652199923992157\n",
      "Epoch 15, CIFAR-10 Batch 1:  validation_loss: 1.536752462387085, validation_accuracy: 0.6257998943328857\n",
      "Epoch 15, CIFAR-10 Batch 2:  validation_loss: 1.3829903602600098, validation_accuracy: 0.638999879360199\n",
      "Epoch 15, CIFAR-10 Batch 3:  validation_loss: 1.5012859106063843, validation_accuracy: 0.6393999457359314\n",
      "Epoch 15, CIFAR-10 Batch 4:  validation_loss: 1.5330708026885986, validation_accuracy: 0.6517999172210693\n",
      "Epoch 15, CIFAR-10 Batch 5:  validation_loss: 1.5087250471115112, validation_accuracy: 0.6249998807907104\n",
      "Epoch 16, CIFAR-10 Batch 1:  validation_loss: 1.598921537399292, validation_accuracy: 0.6315999031066895\n",
      "Epoch 16, CIFAR-10 Batch 2:  validation_loss: 1.464097261428833, validation_accuracy: 0.6453998684883118\n",
      "Epoch 16, CIFAR-10 Batch 3:  validation_loss: 1.6574848890304565, validation_accuracy: 0.6355999112129211\n",
      "Epoch 16, CIFAR-10 Batch 4:  validation_loss: 1.6120151281356812, validation_accuracy: 0.6525998711585999\n",
      "Epoch 16, CIFAR-10 Batch 5:  validation_loss: 1.4179919958114624, validation_accuracy: 0.6465998888015747\n",
      "Epoch 17, CIFAR-10 Batch 1:  validation_loss: 1.6475732326507568, validation_accuracy: 0.6355999708175659\n",
      "Epoch 17, CIFAR-10 Batch 2:  validation_loss: 1.569383978843689, validation_accuracy: 0.6363998651504517\n",
      "Epoch 17, CIFAR-10 Batch 3:  validation_loss: 1.5879271030426025, validation_accuracy: 0.6531999111175537\n",
      "Epoch 17, CIFAR-10 Batch 4:  validation_loss: 1.5980325937271118, validation_accuracy: 0.6521998643875122\n",
      "Epoch 17, CIFAR-10 Batch 5:  validation_loss: 1.5586128234863281, validation_accuracy: 0.6415999531745911\n",
      "Epoch 18, CIFAR-10 Batch 1:  validation_loss: 1.5930042266845703, validation_accuracy: 0.6605998873710632\n",
      "Epoch 18, CIFAR-10 Batch 2:  validation_loss: 1.624131679534912, validation_accuracy: 0.650399923324585\n",
      "Epoch 18, CIFAR-10 Batch 3:  validation_loss: 1.664527177810669, validation_accuracy: 0.6505998969078064\n",
      "Epoch 18, CIFAR-10 Batch 4:  validation_loss: 1.7579922676086426, validation_accuracy: 0.6399998664855957\n",
      "Epoch 18, CIFAR-10 Batch 5:  validation_loss: 1.6300830841064453, validation_accuracy: 0.6483998894691467\n",
      "Epoch 19, CIFAR-10 Batch 1:  validation_loss: 1.6181416511535645, validation_accuracy: 0.6557998657226562\n",
      "Epoch 19, CIFAR-10 Batch 2:  validation_loss: 1.6532502174377441, validation_accuracy: 0.6465998888015747\n",
      "Epoch 19, CIFAR-10 Batch 3:  validation_loss: 1.8018772602081299, validation_accuracy: 0.6379998922348022\n",
      "Epoch 19, CIFAR-10 Batch 4:  validation_loss: 1.8931477069854736, validation_accuracy: 0.6435998678207397\n",
      "Epoch 19, CIFAR-10 Batch 5:  validation_loss: 1.8669390678405762, validation_accuracy: 0.6409999132156372\n",
      "Epoch 20, CIFAR-10 Batch 1:  validation_loss: 1.932250738143921, validation_accuracy: 0.6345999240875244\n",
      "Epoch 20, CIFAR-10 Batch 2:  validation_loss: 1.8866251707077026, validation_accuracy: 0.6369999051094055\n",
      "Epoch 20, CIFAR-10 Batch 3:  validation_loss: 1.8949172496795654, validation_accuracy: 0.6361998915672302\n",
      "Epoch 20, CIFAR-10 Batch 4:  validation_loss: 1.9822689294815063, validation_accuracy: 0.6419999003410339\n",
      "Epoch 20, CIFAR-10 Batch 5:  validation_loss: 1.8989536762237549, validation_accuracy: 0.6393998861312866\n"
     ]
    }
   ],
   "source": [
    "\"\"\"\n",
    "DON'T MODIFY ANYTHING IN THIS CELL\n",
    "\"\"\"\n",
    "save_model_path = './image_classification'\n",
    "\n",
    "print('Training...')\n",
    "with tf.Session() as sess:\n",
    "    # Initializing the variables\n",
    "    sess.run(tf.global_variables_initializer())\n",
    "    \n",
    "    # Training cycle\n",
    "    for epoch in range(epochs):\n",
    "        # Loop over all batches\n",
    "        n_batches = 5\n",
    "        for batch_i in range(1, n_batches + 1):\n",
    "            for batch_features, batch_labels in helper.load_preprocess_training_batch(batch_i, batch_size):\n",
    "                train_neural_network(sess, optimizer, keep_probability, batch_features, batch_labels)\n",
    "            print('Epoch {:>2}, CIFAR-10 Batch {}:  '.format(epoch + 1, batch_i), end='')\n",
    "            print_stats(sess, batch_features, batch_labels, cost, accuracy)\n",
    "            \n",
    "    # Save Model\n",
    "    saver = tf.train.Saver()\n",
    "    save_path = saver.save(sess, save_model_path)"
   ]
  },
  {
   "cell_type": "markdown",
   "metadata": {
    "deletable": true,
    "editable": true
   },
   "source": [
    "# Checkpoint\n",
    "The model has been saved to disk.\n",
    "## Test Model\n",
    "Test your model against the test dataset.  This will be your final accuracy. You should have an accuracy greater than 50%. If you don't, keep tweaking the model architecture and parameters."
   ]
  },
  {
   "cell_type": "code",
   "execution_count": 20,
   "metadata": {
    "collapsed": false,
    "deletable": true,
    "editable": true
   },
   "outputs": [
    {
     "name": "stdout",
     "output_type": "stream",
     "text": [
      "Testing Accuracy: 0.6386471518987342\n",
      "\n"
     ]
    },
    {
     "data": {
      "image/png": "[encoded data removed]",
      "text/plain": [
       "<matplotlib.figure.Figure at 0x7f113012ef28>"
      ]
     },
     "metadata": {
      "image/png": {
       "height": 319,
       "width": 355
      }
     },
     "output_type": "display_data"
    }
   ],
   "source": [
    "\"\"\"\n",
    "DON'T MODIFY ANYTHING IN THIS CELL\n",
    "\"\"\"\n",
    "%matplotlib inline\n",
    "%config InlineBackend.figure_format = 'retina'\n",
    "\n",
    "import tensorflow as tf\n",
    "import pickle\n",
    "import helper\n",
    "import random\n",
    "\n",
    "# Set batch size if not already set\n",
    "try:\n",
    "    if batch_size:\n",
    "        pass\n",
    "except NameError:\n",
    "    batch_size = 64\n",
    "\n",
    "save_model_path = './image_classification'\n",
    "n_samples = 4\n",
    "top_n_predictions = 3\n",
    "\n",
    "def test_model():\n",
    "    \"\"\"\n",
    "    Test the saved model against the test dataset\n",
    "    \"\"\"\n",
    "\n",
    "    test_features, test_labels = pickle.load(open('preprocess_training.p', mode='rb'))\n",
    "    loaded_graph = tf.Graph()\n",
    "\n",
    "    with tf.Session(graph=loaded_graph) as sess:\n",
    "        # Load model\n",
    "        loader = tf.train.import_meta_graph(save_model_path + '.meta')\n",
    "        loader.restore(sess, save_model_path)\n",
    "\n",
    "        # Get Tensors from loaded model\n",
    "        loaded_x = loaded_graph.get_tensor_by_name('x:0')\n",
    "        loaded_y = loaded_graph.get_tensor_by_name('y:0')\n",
    "        loaded_keep_prob = loaded_graph.get_tensor_by_name('keep_prob:0')\n",
    "        loaded_logits = loaded_graph.get_tensor_by_name('logits:0')\n",
    "        loaded_acc = loaded_graph.get_tensor_by_name('accuracy:0')\n",
    "        \n",
    "        # Get accuracy in batches for memory limitations\n",
    "        test_batch_acc_total = 0\n",
    "        test_batch_count = 0\n",
    "        \n",
    "        for train_feature_batch, train_label_batch in helper.batch_features_labels(test_features, test_labels, batch_size):\n",
    "            test_batch_acc_total += sess.run(\n",
    "                loaded_acc,\n",
    "                feed_dict={loaded_x: train_feature_batch, loaded_y: train_label_batch, loaded_keep_prob: 1.0})\n",
    "            test_batch_count += 1\n",
    "\n",
    "        print('Testing Accuracy: {}\\n'.format(test_batch_acc_total/test_batch_count))\n",
    "\n",
    "        # Print Random Samples\n",
    "        random_test_features, random_test_labels = tuple(zip(*random.sample(list(zip(test_features, test_labels)), n_samples)))\n",
    "        random_test_predictions = sess.run(\n",
    "            tf.nn.top_k(tf.nn.softmax(loaded_logits), top_n_predictions),\n",
    "            feed_dict={loaded_x: random_test_features, loaded_y: random_test_labels, loaded_keep_prob: 1.0})\n",
    "        helper.display_image_predictions(random_test_features, random_test_labels, random_test_predictions)\n",
    "\n",
    "\n",
    "test_model()"
   ]
  },
  {
   "cell_type": "markdown",
   "metadata": {
    "deletable": true,
    "editable": true
   },
   "source": [
    "## Why 50-70% Accuracy?\n",
    "You might be wondering why you can't get an accuracy any higher. First things first, 50% isn't bad for a simple CNN.  Pure guessing would get you 10% accuracy. However, you might notice people are getting scores [well above 70%](http://rodrigob.github.io/are_we_there_yet/build/classification_datasets_results.html#43494641522d3130).  That's because we haven't taught you all there is to know about neural networks. We still need to cover a few more techniques.\n",
    "## Submitting This Project\n",
    "When submitting this project, make sure to run all the cells before saving the notebook.  Save the notebook file as \"dlnd_image_classification.ipynb\" and save it as a HTML file under \"File\" -> \"Download as\".  Include the \"helper.py\" and \"problem_unittests.py\" files in your submission."
   ]
  }
 ],
 "metadata": {
  "kernelspec": {
   "display_name": "Python 3",
   "language": "python",
   "name": "python3"
  },
  "language_info": {
   "codemirror_mode": {
    "name": "ipython",
    "version": 3
   },
   "file_extension": ".py",
   "mimetype": "text/x-python",
   "name": "python",
   "nbconvert_exporter": "python",
   "pygments_lexer": "ipython3",
   "version": "3.5.2"
  },
  "widgets": {
   "state": {},
   "version": "1.1.2"
  }
 },
 "nbformat": 4,
 "nbformat_minor": 0
}
